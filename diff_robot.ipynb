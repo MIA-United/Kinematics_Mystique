{
 "cells": [
  {
   "cell_type": "markdown",
   "id": "a5e1ad5e-620c-4363-99ee-157a8db349f8",
   "metadata": {},
   "source": [
    "# KINEMATICS OF DIFFERENTIAL"
   ]
  },
  {
   "cell_type": "markdown",
   "id": "39a13df8-34cf-471c-919e-362b424d071d",
   "metadata": {},
   "source": [
    "### IMPORT LIBRARIES"
   ]
  },
  {
   "cell_type": "code",
   "execution_count": 2,
   "id": "a910657f-ddcd-42e3-b039-9bb22ebf51e2",
   "metadata": {
    "tags": []
   },
   "outputs": [],
   "source": [
    "import numpy as np"
   ]
  },
  {
   "cell_type": "markdown",
   "id": "d65befb5-9c27-459c-9dde-c50c5e2038db",
   "metadata": {},
   "source": [
    "The kinematics of a differential robot, often referred to as \"Differential Drive Kinematics,\" is a mathematical framework that describes how the robot moves and changes its position and orientation based on the velocities of its two wheels. Differential drive robots are characterized by having two independently controllable wheels, typically placed on a common axis, and a caster wheel or other passive support. These robots are commonly used in various applications, including mobile robots, robotic platforms, and even some types of robotic vehicles.\n",
    "\n",
    "Here are the key components of the kinematics of a differential robot:\n",
    "\n",
    "1. **Wheel Velocities (Vl and Vr)**:\n",
    "   - Vl represents the linear velocity of the left wheel.\n",
    "   - Vr represents the linear velocity of the right wheel.\n",
    "\n",
    "2. **Robot's Linear Velocity (V)**:\n",
    "   - The robot's linear velocity, V, is the average of the linear velocities of the left and right wheels:\n",
    "     V = (Vl + Vr) / 2\n",
    "\n",
    "3. **Robot's Angular Velocity (ω)**:\n",
    "   - The robot's angular velocity, ω, is determined by the difference in linear velocities of the left and right wheels, divided by the distance between the wheels (the robot's wheelbase):\n",
    "     ω = (Vr - Vl) / W\n",
    "     where W is the wheelbase, the distance between the two wheels.\n",
    "\n",
    "4. **Robot's Position and Orientation (x, y, θ)**:\n",
    "   - The robot's position (x, y) in a global coordinate system is determined by integrating its linear velocity over time. The orientation (θ) is determined by integrating its angular velocity.\n",
    "     - x(t+Δt) = x(t) + V * cos(θ) * Δt\n",
    "     - y(t+Δt) = y(t) + V * sin(θ) * Δt\n",
    "     - θ(t+Δt) = θ(t) + ω * Δt\n",
    "\n",
    "These equations allow you to compute how a differential drive robot's position and orientation change as it moves with specified wheel velocities. They form the basis for controlling and navigating such robots, including tasks like path following, obstacle avoidance, and mapping.\n",
    "\n",
    "Understanding the kinematics of a differential robot is crucial for developing control algorithms and planning its movements effectively in different environments."
   ]
  },
  {
   "cell_type": "markdown",
   "id": "0796af33-15ad-493f-b766-2a029be45162",
   "metadata": {},
   "source": [
    "## 1- FORWARD KINEMATICS"
   ]
  },
  {
   "cell_type": "markdown",
   "id": "fc23ae1e-f797-41ec-9dc4-c2e4da7fac9a",
   "metadata": {
    "tags": []
   },
   "source": [
    "##### 1.1- Local Frame"
   ]
  },
  {
   "cell_type": "markdown",
   "id": "764c7d94-9bc9-4288-b511-6a40f1aaa8d6",
   "metadata": {},
   "source": [
    "<center>\n",
    "<img src=\"assets/imgs/two_diff_robot.jpg\" width=900 height=600 />\n",
    "</center>"
   ]
  },
  {
   "cell_type": "markdown",
   "id": "603c18c4-d789-44f1-a7aa-24f4442e9e2b",
   "metadata": {},
   "source": [
    "<center>\n",
    "<img src=\"assets/imgs/two_kinematics_schame.png\" width=900 height=600 />\n",
    "</center>"
   ]
  },
  {
   "cell_type": "markdown",
   "id": "0e2f08c7-e4e8-426e-b600-9f3f5181e060",
   "metadata": {},
   "source": [
    "* Assume Angular velocit of Wheels:\n",
    "    * wr : angular velocity of Right wheel\n",
    "    * wl : angular velocity of Left wheel"
   ]
  },
  {
   "cell_type": "markdown",
   "id": "4818a81b-265f-4e00-97e3-cd35d4760c2f",
   "metadata": {
    "tags": []
   },
   "source": [
    "<center>\n",
    "<img src=\"assets/imgs/local_diff.png\" width=300 height=300 />\n",
    "</center>"
   ]
  },
  {
   "cell_type": "code",
   "execution_count": 3,
   "id": "86bff605-ce0f-4e33-90ae-8cdac3d9f278",
   "metadata": {
    "tags": []
   },
   "outputs": [
    {
     "name": "stdout",
     "output_type": "stream",
     "text": [
      "Vx : 0.5\n",
      "Vy : 0.0\n",
      "w  : 5.0\n"
     ]
    }
   ],
   "source": [
    "# Constants\n",
    "r  = 0.1 # meter\n",
    "b  = 0.2 # meter\n",
    "\n",
    "# Variables\n",
    "wr = 10       # rad/sec\n",
    "wl = 0      # rad/sec\n",
    "\n",
    "\n",
    "vr = wr * r   # linear velocity of right wheel\n",
    "vl = wl * r   # linear velocity of right wheel\n",
    "\n",
    "\n",
    "# Excuse Kinematics\n",
    "Vx = (1/2)  * vr  + (1/2) *  vl\n",
    "Vy = (0  )  * vr  + (0  ) *  vl\n",
    "w  = (1/b)  * vr  - (1/b) *  vl\n",
    "\n",
    "print(f\"Vx : {Vx}\")\n",
    "print(f\"Vy : {Vy}\")\n",
    "print(f\"w  : {w}\")"
   ]
  },
  {
   "cell_type": "markdown",
   "id": "d1db03d4-8dbc-4520-aca5-463ce495f9fe",
   "metadata": {},
   "source": [
    "***"
   ]
  },
  {
   "cell_type": "markdown",
   "id": "ad54d9ff-2789-434a-af39-c0bb9c21e343",
   "metadata": {},
   "source": [
    "##### 1.1- Global Frame"
   ]
  },
  {
   "cell_type": "markdown",
   "id": "35409def-aa96-48e0-8e26-2ac89c73271f",
   "metadata": {},
   "source": [
    "<center>\n",
    "<img src=\"assets/imgs/local_to_global.png\" width=600 height=600 />\n",
    "</center>"
   ]
  },
  {
   "cell_type": "markdown",
   "id": "b7d62b7b-635f-40fc-ae2a-e622337a452c",
   "metadata": {},
   "source": [
    "<center>\n",
    "<img src=\"assets/imgs/global_equs.png\" width=300 height=200 />\n",
    "</center>"
   ]
  },
  {
   "cell_type": "code",
   "execution_count": 4,
   "id": "912d8ce5-1aca-4f32-a4d6-77c598cfaf93",
   "metadata": {},
   "outputs": [
    {
     "name": "stdout",
     "output_type": "stream",
     "text": [
      "Vgx : 0\n",
      "Vgy : 0\n",
      "Wg  : 10.0\n"
     ]
    }
   ],
   "source": [
    "# Constants\n",
    "r  = 0.1 # meter\n",
    "b  = 0.2 # meter\n",
    "\n",
    "# Variables\n",
    "wr = 10       # rad/sec\n",
    "wl = -10       # rad/sec\n",
    "\n",
    "\n",
    "vr = wr * r   # linear velocity of right wheel\n",
    "vl = wl * r   # linear velocity of right wheel\n",
    "\n",
    "theta = 180\n",
    "\n",
    "# Excuse local Kinematics\n",
    "Vx = (1/2)  * vr  + (1/2) *  vl\n",
    "Vy = (0  )  * vr  + (0  ) *  vl\n",
    "w  = (1/b)  * vr  - (1/b) *  vl\n",
    "\n",
    "Vgx= Vx * np.cos( theta * (np.pi/180) )\n",
    "Vgy= Vx * np.sin( theta * (np.pi/180) )\n",
    "Wg = w\n",
    "\n",
    "if np.abs(Vgx) < 1e-5 : Vgx = 0\n",
    "if np.abs(Vgy) < 1e-5 : Vgy = 0\n",
    "if np.abs(Wg ) < 1e-5 : Wg = 0\n",
    "\n",
    "print(f\"Vgx : {Vgx}\")\n",
    "print(f\"Vgy : {Vgy}\")\n",
    "print(f\"Wg  : {Wg}\")"
   ]
  },
  {
   "cell_type": "markdown",
   "id": "839c89ff-4952-40a5-bfc6-dba1ddf4505e",
   "metadata": {},
   "source": [
    "***"
   ]
  },
  {
   "cell_type": "markdown",
   "id": "10028e16-3939-4790-8414-c25f8db623ec",
   "metadata": {},
   "source": [
    "### 1.3- Matrix Form"
   ]
  },
  {
   "cell_type": "markdown",
   "id": "0bf50b90-7453-4663-a4aa-6a34d8cb8a6b",
   "metadata": {},
   "source": [
    "<center>\n",
    "<img src=\"assets/imgs/matrix_diff.png\" width=300 height=200 />\n",
    "</center>"
   ]
  },
  {
   "cell_type": "code",
   "execution_count": 9,
   "id": "a6a7ebe5-6b36-4455-9d1e-7a1c8a9ec692",
   "metadata": {
    "tags": []
   },
   "outputs": [
    {
     "name": "stdout",
     "output_type": "stream",
     "text": [
      "[[1.]\n",
      " [0.]\n",
      " [0.]]\n"
     ]
    }
   ],
   "source": [
    "# Constants\n",
    "r  = 0.1 # meter\n",
    "b  = 0.2 # meter\n",
    "\n",
    "# Variables\n",
    "wr = 10       # rad/sec\n",
    "wl = 10       # rad/sec\n",
    "\n",
    "vr = wr * r   # linear velocity of right wheel\n",
    "vl = wl * r   # linear velocity of right wheel\n",
    "\n",
    "\n",
    "# input\n",
    "W = np.array([ [wl], [wr] ])\n",
    "\n",
    "Kinematics = np.array([ [r/2, r/2], [0, 0] ,[-r/b, r/b]])\n",
    "\n",
    "\n",
    "# Output\n",
    "Vl = Kinematics @ W\n",
    "\n",
    "print(np.round(Vl,2))"
   ]
  },
  {
   "cell_type": "markdown",
   "id": "2d769a3f-0ba7-47a2-b3fc-f0677c4ac10d",
   "metadata": {},
   "source": [
    "<center>\n",
    "<img src=\"assets/imgs/rot_mat.png\" width=300 height=200 />\n",
    "</center>"
   ]
  },
  {
   "cell_type": "code",
   "execution_count": 12,
   "id": "6c631f15-33b2-4db7-adb5-4dfa23c059b6",
   "metadata": {
    "tags": []
   },
   "outputs": [
    {
     "name": "stdout",
     "output_type": "stream",
     "text": [
      "Vl : \n",
      "[[1.]\n",
      " [0.]\n",
      " [0.]]\n",
      "\n",
      "Vg: \n",
      "[[0.71]\n",
      " [0.71]\n",
      " [0.  ]]\n"
     ]
    }
   ],
   "source": [
    "theta = 45\n",
    "\n",
    "Rot  = np.array([ [np.cos(theta * (np.pi/180)) , -np.sin(theta * (np.pi/180)), 0 ], \n",
    "                  [np.sin(theta * (np.pi/180)) , np.cos(theta * (np.pi/180)) , 0 ],\n",
    "                  [             0              ,              0              , 1 ]])\n",
    "\n",
    "# Output\n",
    "Vg = Rot  @  Vl \n",
    "\n",
    "\n",
    "\n",
    "print(f\"Vl : \\n{np.round(Vl,2)}\")\n",
    "print(f\"\\nVg: \\n{np.round(Vg,2)}\")"
   ]
  },
  {
   "cell_type": "markdown",
   "id": "561e3571-86af-4d4d-94ca-ca2ff78b4001",
   "metadata": {},
   "source": [
    "***"
   ]
  },
  {
   "cell_type": "markdown",
   "id": "96735fe5-51c2-419f-a6a6-4f9dfbda8860",
   "metadata": {
    "tags": []
   },
   "source": [
    "### 1.4- Inverse Kinematics"
   ]
  },
  {
   "cell_type": "code",
   "execution_count": 13,
   "id": "488a12bf-ecbf-4e43-92e2-08bc1fe2d061",
   "metadata": {
    "tags": []
   },
   "outputs": [
    {
     "data": {
      "text/plain": [
       "array([[10.,  0., -1.],\n",
       "       [10.,  0.,  1.]])"
      ]
     },
     "execution_count": 13,
     "metadata": {},
     "output_type": "execute_result"
    }
   ],
   "source": [
    "np.linalg.pinv(Kinematics)"
   ]
  },
  {
   "cell_type": "code",
   "execution_count": 16,
   "id": "986f1967-8bf1-46cd-93ac-3a00dd187f11",
   "metadata": {
    "tags": []
   },
   "outputs": [
    {
     "name": "stdout",
     "output_type": "stream",
     "text": [
      "[[ 90.]\n",
      " [110.]]\n"
     ]
    }
   ],
   "source": [
    "# Constants\n",
    "r  = 0.1 # meter\n",
    "b  = 0.2 # meter\n",
    "\n",
    "# Variables\n",
    "vx = 10       # m/sec\n",
    "vy = 0       # m/sec\n",
    "w  = 10     \n",
    "\n",
    "\n",
    "# input\n",
    "V = np.array([ [vx], [vy], [w] ])\n",
    "\n",
    "Kinematics = np.array([ [r/2, r/2], [0, 0] ,[-r/b, r/b]])\n",
    "\n",
    "\n",
    "# Output\n",
    "W = np.linalg.pinv(Kinematics) @ V\n",
    "\n",
    "print(W)"
   ]
  },
  {
   "cell_type": "code",
   "execution_count": 39,
   "id": "c1dc8816-d6d3-4b7c-a091-0df001edf39d",
   "metadata": {
    "tags": []
   },
   "outputs": [
    {
     "data": {
      "text/plain": [
       "array([[10.,  0., -1.],\n",
       "       [10.,  0.,  1.]])"
      ]
     },
     "execution_count": 39,
     "metadata": {},
     "output_type": "execute_result"
    }
   ],
   "source": []
  },
  {
   "cell_type": "markdown",
   "id": "ba3bc926-0876-4d6b-bb71-a79ac91fd961",
   "metadata": {},
   "source": []
  }
 ],
 "metadata": {
  "kernelspec": {
   "display_name": "Python 3 (ipykernel)",
   "language": "python",
   "name": "python3"
  },
  "language_info": {
   "codemirror_mode": {
    "name": "ipython",
    "version": 3
   },
   "file_extension": ".py",
   "mimetype": "text/x-python",
   "name": "python",
   "nbconvert_exporter": "python",
   "pygments_lexer": "ipython3",
   "version": "3.10.0"
  }
 },
 "nbformat": 4,
 "nbformat_minor": 5
}
